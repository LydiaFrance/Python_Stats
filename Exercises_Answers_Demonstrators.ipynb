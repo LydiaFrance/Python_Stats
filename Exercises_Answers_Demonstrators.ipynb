{
 "cells": [
  {
   "cell_type": "markdown",
   "metadata": {
    "id": "yYf2YE1dPDOW"
   },
   "source": [
    "# Exercise 00: Initialising Python \n",
    "\n",
    "`5 mins`\n",
    "\n",
    "You can use Google Colab or a local python file on your computer as you prefer. \n",
    "\n",
    "Check you can import the libraries and there aren't any problems. \n",
    "\n",
    "## Demonstrators! Do not help people with Advanced/Super Advanced, help the other students.\n",
    "\n",
    "**Advanced** If you are working locally, set up your project directories. \n",
    "\n",
    "**Super Advanced** Initialise a python environment and initialise Git. "
   ]
  },
  {
   "cell_type": "code",
   "execution_count": null,
   "metadata": {
    "id": "1IFC-4EJ014s"
   },
   "outputs": [],
   "source": [
    "import pandas as pd\n",
    "import matplotlib.pyplot as plt\n",
    "import seaborn as sns\n",
    "import numpy as np\n",
    "import scipy.stats as stats\n",
    "import statsmodels.api as sm\n",
    "\n",
    "# Pip install for Google Colab\n",
    "!pip install palmerpenguins\n",
    "\n",
    "# On local computers, they need to pip install some of these. \n",
    "#     pip install package-name\n",
    "\n",
    "# If they're using an environment it will be something like \n",
    "#     conda install package-name\n",
    "#     poetry add package-name\n",
    "#     pyenv install package-name\n",
    "# If they get stuck, make them use Google Colab instead. \n",
    "\n",
    "from palmerpenguins import load_penguins\n",
    "\n",
    "\n",
    "# Set figure styles\n",
    "sns.set_theme(style=\"white\")\n",
    "sns.set_style(\"white\")\n",
    "\n",
    "# high resolution plots\n",
    "%config InlineBackend.figure_format = 'retina'\n",
    "\n",
    "penguins = load_penguins()\n"
   ]
  },
  {
   "cell_type": "markdown",
   "metadata": {
    "id": "fT6Xh73lF-9i"
   },
   "source": [
    "# Exercise 01: Looking at a Dataset with Pandas\n",
    "5 mins\n",
    "\n",
    "- Load the penguins library\n",
    "- Find out what these methods do:\n",
    "  - `.describe()`\n",
    "  - `.head()`\n",
    "  - `.info()`\n",
    "  - `.tail()`\n",
    "- Find out what these attributes do:\n",
    "  - `.columns`\n",
    "  - `.ndim`\n",
    "  - `.size`\n",
    "- Create a simple plot of two variables\n",
    "- Create a plot of just the Gentoo penguins. \n",
    "\n",
    "**Advanced** Save a copy of your raw data as `.csv` and put it in the `raw_data/` subdirectory. \n",
    "\n",
    "**Super Advanced** Find the raw penguins dataset online (it has 17 columns) and explore it. Investigate what methods you could use to clean it up. Put your pipeline in `cleaning.py.` Use git add, git commit, git push for version control. \n",
    "\n",
    "\n",
    "\n"
   ]
  },
  {
   "cell_type": "code",
   "execution_count": null,
   "metadata": {
    "id": "zi-Edq2IBmsU"
   },
   "outputs": [],
   "source": [
    "penguins.info()\n",
    "penguins.describe()\n",
    "penguins.head()\n",
    "penguins.tail()\n",
    "\n",
    "penguins.shape\n",
    "penguins.columns\n",
    "penguins.ndim\n",
    "penguins.size\n",
    "\n",
    "penguins.plot(kind=\"scatter\", x=\"body_mass_g\", y=\"bill_length_mm\")\n",
    "\n",
    "adelie_only = penguins[penguins[\"species\"] == \"Adelie\"]\n",
    "\n",
    "adelie_only.plot(kind=\"scatter\", x=\"body_mass_g\", \n",
    "                                 y=\"bill_length_mm\", \n",
    "                                 title=\"Adelie Penguins only\")\n"
   ]
  },
  {
   "cell_type": "markdown",
   "metadata": {
    "id": "NG3myiCwYCrZ"
   },
   "source": [
    "# Exercise 02: Using Matplotlib to Plot\n",
    "\n",
    "`5 mins`\n",
    "\n",
    "Create a scatter plot with all three penguins in different colours. \n",
    "\n",
    "*I will be recapping for loops in the next section. If this is very familiar to you, try the following instead of listening to the next section.*\n",
    "\n",
    "**Advanced** Create a for loop for this. \n",
    "\n",
    "**Super Advanced** Create a function for this. "
   ]
  },
  {
   "cell_type": "code",
   "execution_count": null,
   "metadata": {
    "id": "JR3bB5Mx2fJf"
   },
   "outputs": [],
   "source": [
    "# No Loops:\n",
    "\n",
    "# Subset the data\n",
    "adelie_only = penguins[penguins[\"species\"] == \"Adelie\"]\n",
    "gentoo_only = penguins[penguins[\"species\"] == \"Gentoo\"]\n",
    "chinstrap_only = penguins[penguins[\"species\"] == \"Chinstrap\"]\n",
    "\n",
    "# Then we plot the Gentoo penguins on the same plot as the Adelie penguins:\n",
    "plt.scatter(gentoo_only[\"body_mass_g\"], gentoo_only[\"bill_length_mm\"], color=\"lightseagreen\")\n",
    "plt.scatter(adelie_only[\"body_mass_g\"], adelie_only[\"bill_length_mm\"], color=\"coral\")\n",
    "plt.scatter(chinstrap_only[\"body_mass_g\"], chinstrap_only[\"bill_length_mm\"], color=\"mediumorchid\")\n",
    "\n",
    "# Figure Aesthetics\n",
    "plt.title(\"All Penguins\")\n",
    "plt.xlabel(\"Body mass (g)\")\n",
    "plt.ylabel(\"Bill length (mm)\")\n",
    "\n",
    "# We can also add a legend to the plot \n",
    "# (Important! This list of penguin names is in the same order as they were plotted):\n",
    "plt.legend([\"Gentoo\", \"Adelie\", \"Chinstrap\"])\n",
    "\n"
   ]
  },
  {
   "cell_type": "code",
   "execution_count": null,
   "metadata": {
    "id": "Tbj71ZXa2vKN"
   },
   "outputs": [],
   "source": [
    "# Advanced, with a loop:\n",
    "\n",
    "plt.figure()\n",
    "\n",
    "# Then we can use a for loop to plot the data for each species:\n",
    "for species in species_list:\n",
    "    subset_species_only = penguins[penguins[\"species\"] == species]\n",
    "    plt.scatter(subset_species_only[\"body_mass_g\"], \n",
    "                subset_species_only[\"bill_length_mm\"], label=species)\n",
    "\n",
    "plt.legend()\n",
    "\n",
    "# And the rest of the plot\n",
    "plt.title(\"All penguins\")\n",
    "plt.xlabel(\"Body mass (g)\")\n",
    "plt.ylabel(\"Bill length (mm)\")\n"
   ]
  },
  {
   "cell_type": "markdown",
   "metadata": {
    "id": "fGc5jc0gde2S"
   },
   "source": [
    "# Exercise 03: Another Kind of Plot\n",
    "\n",
    "`5 mins`\n",
    "\n",
    "Try to now plot some histograms for a given variable in the data frame with each species over the top of each other using a for loop. \n",
    "\n",
    "Hint: You can make sure your histogram is slightly transparent by adding the argument alpha = 0.5. \n",
    "\n",
    "**Advanced** Create a function for your for plotting for loop. \n",
    "\n",
    "**Super Advanced** Continue creating a function for your plotting loop. When done, save it as a function in a separate file, and try to call it into your main script. \n",
    "\n"
   ]
  },
  {
   "cell_type": "code",
   "execution_count": null,
   "metadata": {
    "id": "7hTmNH-T3Kny"
   },
   "outputs": [],
   "source": [
    "plt.figure()\n",
    "\n",
    "# Then we can use a for loop to plot the data for each species:\n",
    "for species in species_list:\n",
    "    subset_species_only = penguins[penguins[\"species\"] == species]\n",
    "\n",
    "    plt.hist(subset_species_only[\"body_mass_g\"], \n",
    "             bins=20, \n",
    "             alpha = 0.5, \n",
    "             label = species, \n",
    "             color = colour_dict[species])\n",
    "\n",
    "plt.legend()\n",
    "\n",
    "# And the rest of the plot\n",
    "plt.xlabel(\"Body mass (g)\")\n",
    "plt.ylabel(\"Bill length (mm)\")\n",
    "plt.legend()\n"
   ]
  },
  {
   "cell_type": "markdown",
   "metadata": {
    "id": "_0nThzVSgT8j"
   },
   "source": [
    "# 10 MIN BREAK\n",
    "\n",
    "- Check you have a subplot figure and a loop within a loop.\n",
    "- Finish any of the exercises you are doing. \n",
    "\n"
   ]
  },
  {
   "cell_type": "code",
   "execution_count": null,
   "metadata": {
    "id": "IuL1_vdk4CE7"
   },
   "outputs": [],
   "source": [
    "# Final Subplot Code\n",
    "\n",
    "data_variable_dict = {\"body_mass_g\"     :   \"Body mass (g)\", \n",
    "                      \"bill_length_mm\"  :   \"Bill length (mm)\", \n",
    "                      \"bill_depth_mm\"   :   \"Bill depth (mm)\"}\n",
    "\n",
    "fig, axes = plt.subplots(2, 2, figsize=(7, 7),constrained_layout=True)\n",
    "\n",
    "for species in species_list:\n",
    "  \n",
    "    subset_species_only = penguins[penguins[\"species\"] == species]\n",
    "\n",
    "    # The top left subplot is different to the others. \n",
    "\n",
    "    axes[0, 0].scatter(subset_species_only[\"body_mass_g\"], \n",
    "                subset_species_only[\"bill_length_mm\"], \n",
    "                label = species, \n",
    "                color = colour_dict[species])\n",
    "    \n",
    "    axes[0, 0].set_title(\"Body mass vs bill length\")\n",
    "    axes[0, 0].set_xlabel(\"Body mass (g)\")\n",
    "    axes[0, 0].set_ylabel(\"Bill length (mm)\")\n",
    "    axes[0, 0].legend()\n",
    "    \n",
    "    counter = 1 # Need to start from the second subplot. \n",
    "\n",
    "    # Plotting subplots 2-4. \n",
    "    for column_name in data_variable_dict.keys():\n",
    "\n",
    "        current_ax = axes.flatten()[counter] # Makes the subplots 0,1,2,3 rather than [0,0] etc\n",
    "\n",
    "        current_ax.hist(subset_species_only[column_name], \n",
    "                        bins=20, \n",
    "                        alpha = 0.5, \n",
    "                        label = species, \n",
    "                        color = current_colour)\n",
    "\n",
    "        current_ax.set_ylabel(data_variable_dict[column_name])\n",
    "\n",
    "        counter = counter + 1\n",
    "plt.show()\n"
   ]
  },
  {
   "cell_type": "markdown",
   "metadata": {
    "id": "aEXhxcVQiXDN"
   },
   "source": [
    "# Exercise 04: Printing P Value Results\n",
    "\n",
    "- Make sure you have this part of the lesson working.\n",
    "- Try a p_value of 0.5. Can you fix the code?\n",
    "\n",
    "Advanced people: Make this into a function. \n"
   ]
  },
  {
   "cell_type": "code",
   "execution_count": null,
   "metadata": {
    "id": "IPEc2qE75OK_"
   },
   "outputs": [],
   "source": [
    "# The complete code\n",
    "\n",
    "p_value = 0.05\n",
    "\n",
    "if p_value > 0.05:\n",
    "    print(\"The p-value is larger than the critical threshold. We cannot reject the null hypothesis.\")\n",
    "    print(\"The p-value = \" + str(p_value))\n",
    "\n",
    "elif p_value < 0.001:\n",
    "    print(\"The p-value is smaller than the critical threshold. We can reject the null hypothesis.\")\n",
    "    print(\"The p-value is < 0.001.\")\n",
    "\n",
    "elif p_value < 0.05:\n",
    "    print(\"The p-value is smaller than the critical threshold. We can reject the null hypothesis.\")\n",
    "    print(\"The p-value = \" + str(p_value))\n",
    "\n",
    "else:\n",
    "    print(\"Your p-value defies maths. I don't know what to do with it.\")"
   ]
  },
  {
   "cell_type": "code",
   "execution_count": 3,
   "metadata": {
    "colab": {
     "base_uri": "https://localhost:8080/",
     "height": 0
    },
    "id": "6HI5Ym0U5azw",
    "outputId": "16484be9-a81f-456c-8d7d-dd5badbe0e12"
   },
   "outputs": [
    {
     "data": {
      "text/plain": [
       "True"
      ]
     },
     "execution_count": 3,
     "metadata": {},
     "output_type": "execute_result"
    }
   ],
   "source": [
    "# To fix the 0.5 bug, change at the top to >=\n",
    "\n",
    "if p_value >= 0.05:"
   ]
  },
  {
   "cell_type": "markdown",
   "metadata": {
    "id": "n9JYfm056aCc"
   },
   "source": [
    "# Exercise 05: Function P Value Results\n",
    "\n",
    "`5 mins`\n",
    "\n",
    "- Make sure you have a function working\n",
    "- Try calling it with different values\n"
   ]
  },
  {
   "cell_type": "code",
   "execution_count": 5,
   "metadata": {
    "colab": {
     "base_uri": "https://localhost:8080/",
     "height": 0
    },
    "id": "T4ztAHBT5xPf",
    "outputId": "b30b1c63-69c6-4227-fe28-cfb88a64444a"
   },
   "outputs": [
    {
     "name": "stdout",
     "output_type": "stream",
     "text": [
      ":( We cannot reject the null hypothesis. p-value = 0.05 :(\n"
     ]
    }
   ],
   "source": [
    "# Function version\n",
    "\n",
    "def p_value_to_words(p_value):\n",
    "\n",
    "  p_value_rounded = str(round(p_value, 3))\n",
    "\n",
    "  if p_value >= 0.05:\n",
    "      print(\":( We cannot reject the null hypothesis. p-value = \" + p_value_rounded + \" :(\")\n",
    "  elif p_value < 0.001:\n",
    "      print(\"*** The p-value is smaller than the critical threshold. p-value is < 0.001.\" + \" ***\")\n",
    "  elif p_value < 0.05:\n",
    "      print(\"* The p-value is smaller than the critical threshold. p-value = \" + p_value_rounded + \". *\")\n",
    "  else:\n",
    "      print(\"Your p-value defies maths. I don't know what to do with it.\")\n",
    "\n",
    "\n",
    "# Calling the function\n",
    "p_value_to_words(0.05)"
   ]
  },
  {
   "cell_type": "markdown",
   "metadata": {
    "id": "2NKUm7w0lu1m"
   },
   "source": [
    "## Exercise 06 -- Linear Model Function\n",
    "`10 mins`\n",
    "\n",
    "- Put Linear Model in a function\n",
    "- Nest the printing p value function inside\n",
    "\n",
    "**Advanced People** -- Make the function generalisable for both linear regression and multiple linear regression.\n",
    "\n",
    "**Super Advanced People** -- Find out how to run blocks of R code, or an R script, within Python. "
   ]
  },
  {
   "cell_type": "code",
   "execution_count": null,
   "metadata": {
    "id": "p0Ix7P157fQ1"
   },
   "outputs": [],
   "source": [
    "def linear_model_species(penguins_clean,species_name, x_variable, y_variable):\n",
    "\n",
    "    model_string = y_variable + \" ~ \" + x_variable\n",
    "\n",
    "    linear_model = ols(model_string, \n",
    "                       data=penguins_clean[penguins_clean[\"species\"] == species_name]).fit()\n",
    "\n",
    "    r_squared = round(linear_model.rsquared,2)\n",
    "    print(species + \" (\" + x_variable + \" vs \" + y_variable + \") :  R^2 value = \" + str(r_squared))\n",
    "\n",
    "    # We can call our previous function from inside here. This is called a nested function.\n",
    "    p_value_to_words(linear_model.f_pvalue)\n",
    "    print(\"\\n\")\n",
    "\n",
    "    return linear_model\n",
    "\n",
    "# ---\n",
    "species_list = penguins_clean[\"species\"].unique().tolist()\n",
    "\n",
    "coords = {\"Adelie\": (4900, 195), \n",
    "          \"Gentoo\": (6100, 225), \n",
    "          \"Chinstrap\": (4800, 204)}\n",
    "\n",
    "colour_dict = {\"Adelie\": \"coral\", \n",
    "               \"Gentoo\": \"lightseagreen\", \n",
    "               \"Chinstrap\": \"mediumorchid\"}\n",
    "\n",
    "print(\"Linear model results for bill length vs body mass for each species...\")\n",
    "\n",
    "for species in species_list:\n",
    "\n",
    "    # Running the function on each species.\n",
    "    model = linear_model_species(penguins_clean,species, \"body_mass_g\", \"bill_length_mm\")\n",
    "    \n",
    "    # Now plot an annotation for each loop. \n",
    "    text = \"R^2 = \" + str(round(model.rsquared,2))\n",
    "\n",
    "    # Now we're using the coords dictionary and the colour dictionary. \n",
    "    plt.annotate(text, xy = coords[species], color = colour_dict[species])\n",
    "\n"
   ]
  },
  {
   "cell_type": "markdown",
   "metadata": {
    "id": "viQYnAXM8DDF"
   },
   "source": [
    "---\n",
    "\n",
    "# OTHER CODE"
   ]
  },
  {
   "cell_type": "markdown",
   "metadata": {
    "id": "jjwG-jS98cYe"
   },
   "source": [
    "## Dictionaries"
   ]
  },
  {
   "cell_type": "code",
   "execution_count": null,
   "metadata": {
    "id": "ozc97HCv8bdL"
   },
   "outputs": [],
   "source": [
    "colour_dict = {\"Adelie\": \"coral\", \n",
    "               \"Gentoo\": \"lightseagreen\", \n",
    "               \"Chinstrap\": \"mediumorchid\"}\n",
    "\n",
    "data_variable_dict = {\"body_mass_g\"     :   \"Body mass (g)\", \n",
    "                      \"bill_length_mm\"  :   \"Bill length (mm)\", \n",
    "                      \"bill_depth_mm\"   :   \"Bill depth (mm)\"}\n",
    "\n",
    "coords = {\"Adelie\": (4900, 195), \n",
    "          \"Gentoo\": (6100, 225), \n",
    "          \"Chinstrap\": (4800, 204)}"
   ]
  },
  {
   "cell_type": "markdown",
   "metadata": {
    "id": "RgTDCuei9EVo"
   },
   "source": [
    "## Statistics"
   ]
  },
  {
   "cell_type": "code",
   "execution_count": null,
   "metadata": {
    "id": "zCw3_xYr9E27"
   },
   "outputs": [],
   "source": [
    "# T-Test\n",
    "ttest_results = stats.ttest_ind(adelie_body_mass, gentoo_body_mass)\n",
    "\n",
    "# ANOVA\n",
    "anova = ols('body_mass_g ~ C(species)', data=penguins_clean).fit()\n",
    "\n",
    "# Tukey Posthoc Test\n",
    "multi_comparison = multi.MultiComparison(penguins_clean[\"body_mass_g\"], \n",
    "                                         penguins_clean[\"species\"])\n",
    "multi_comparison_results = multi_comparison.tukeyhsd()\n",
    "\n",
    "# Linear Regression Model\n",
    "linear_model = ols('body_mass_g ~ bill_length_mm', \n",
    "                   data=penguins_clean).fit()\n",
    "linear_model.summary()\n",
    "\n",
    "# Multiple Regression Model \n",
    "multi_linear_model = ols(\"body_mass_g ~ bill_length_mm + flipper_length_mm\", \n",
    "                         data=penguins_clean).fit()\n",
    "\n",
    "# Linear Mixed Effects Model -- Same slope, different species intercept\n",
    "lmm_model = sm.MixedLM.from_formula(\"body_mass_g ~ bill_length_mm\", \n",
    "                                    data=penguins_clean, groups=\"species\").fit()\n",
    "\n",
    "# Linear Mixed Effects Model -- Different species intercept and different species slope\n",
    "lmm_model = sm.MixedLM.from_formula(\"body_mass_g ~ bill_length_mm\", \n",
    "                                    data=penguins_clean, groups=\"species\", \n",
    "                                    re_formula=\"~bill_length_mm\").fit()\n",
    "\n"
   ]
  },
  {
   "cell_type": "markdown",
   "metadata": {
    "id": "AuIuICRM9jIL"
   },
   "source": [
    "## How to compare each species with each other in a loop"
   ]
  },
  {
   "cell_type": "code",
   "execution_count": null,
   "metadata": {
    "id": "lRnjGmY89NM5"
   },
   "outputs": [],
   "source": [
    "species_list = penguins_clean[\"species\"].unique().tolist()\n",
    "\n",
    "for species in species_list:\n",
    "    for species_compare in species_list:\n",
    "\n",
    "        mass_current_species = penguins_clean[penguins_clean[\"species\"] == species][\"body_mass_g\"]\n",
    "        mass_compare_species = penguins_clean[penguins_clean[\"species\"] == species_compare][\"body_mass_g\"]\n",
    "            \n",
    "\n",
    "        if species != species_compare:\n",
    "\n",
    "            t_test = stats.ttest_ind(mass_current_species, mass_compare_species)\n",
    "            p_value = t_test[1]\n",
    "\n",
    "            print(\"T test for \" + species + \" vs \" + species_compare)\n",
    "            p_value_to_words(p_value)\n",
    "            print(\"\\n\")\n",
    "\n",
    "    species_list.remove(species)"
   ]
  },
  {
   "cell_type": "markdown",
   "metadata": {
    "id": "eEIvCTxp9zHE"
   },
   "source": [
    "## Making Variables Categories\n",
    "\n"
   ]
  },
  {
   "cell_type": "code",
   "execution_count": null,
   "metadata": {
    "id": "OvO-xfjA9yvW"
   },
   "outputs": [],
   "source": [
    "penguins_clean[\"species\"] = penguins_clean[\"species\"].astype(\"category\")"
   ]
  },
  {
   "cell_type": "markdown",
   "metadata": {
    "id": "H9AHI9N5-Gu2"
   },
   "source": [
    "## Pair-plot"
   ]
  },
  {
   "cell_type": "code",
   "execution_count": null,
   "metadata": {
    "id": "RGXuJJnl-HEM"
   },
   "outputs": [],
   "source": [
    "figure = sns.pairplot(penguins_clean, \n",
    "                      hue=\"species\", \n",
    "                      diag_kind=\"hist\", \n",
    "                      corner=True, \n",
    "                      palette=colour_dict)\n",
    "figure.fig.set_figheight(7)\n",
    "figure.fig.set_figwidth(7)\n"
   ]
  },
  {
   "cell_type": "markdown",
   "metadata": {
    "id": "eLhAUTqc-aTW"
   },
   "source": [
    "## Plotting Linear Regression in Seaborn"
   ]
  },
  {
   "cell_type": "code",
   "execution_count": null,
   "metadata": {
    "id": "WeqX_MHb-dS_"
   },
   "outputs": [],
   "source": [
    "# Entire dataset\n",
    "sns.lmplot(x=\"body_mass_g\", y=\"bill_length_mm\", data=penguins_clean)\n",
    "\n",
    "# Grouped by species\n",
    "sns.lmplot(x=\"body_mass_g\", y=\"bill_length_mm\", data=penguins_clean, hue=\"species\", palette = colour_dict)\n"
   ]
  }
 ],
 "metadata": {
  "colab": {
   "provenance": []
  },
  "kernelspec": {
   "display_name": "Python 3 (ipykernel)",
   "language": "python",
   "name": "python3"
  },
  "language_info": {
   "codemirror_mode": {
    "name": "ipython",
    "version": 3
   },
   "file_extension": ".py",
   "mimetype": "text/x-python",
   "name": "python",
   "nbconvert_exporter": "python",
   "pygments_lexer": "ipython3",
   "version": "3.8.12"
  },
  "vscode": {
   "interpreter": {
    "hash": "0f05f99fbfbf61a85a984705a055c837b85d0c554a9f0da7a87d3f32284c170f"
   }
  }
 },
 "nbformat": 4,
 "nbformat_minor": 1
}
